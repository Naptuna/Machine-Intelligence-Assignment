{
  "nbformat": 4,
  "nbformat_minor": 0,
  "metadata": {
    "colab": {
      "provenance": [],
      "include_colab_link": true
    },
    "kernelspec": {
      "name": "python3",
      "display_name": "Python 3"
    },
    "language_info": {
      "name": "python"
    }
  },
  "cells": [
    {
      "cell_type": "markdown",
      "metadata": {
        "id": "view-in-github",
        "colab_type": "text"
      },
      "source": [
        "<a href=\"https://colab.research.google.com/github/Naptuna/Machine-Intelligence-Assignment/blob/main/Machine_Learning_Assignment.ipynb\" target=\"_parent\"><img src=\"https://colab.research.google.com/assets/colab-badge.svg\" alt=\"Open In Colab\"/></a>"
      ]
    },
    {
      "cell_type": "markdown",
      "source": [
        "Library Section - Importing all the necesarry libraries that are needed to run the code "
      ],
      "metadata": {
        "id": "rol8tNoy73vL"
      }
    },
    {
      "cell_type": "code",
      "source": [
        "import collections\n",
        "import csv \n",
        "import pandas as pd\n",
        "from numpy import random\n",
        "\n",
        "from copy import deepcopy    \n",
        "from numpy.random import randint"
      ],
      "metadata": {
        "id": "NuQHj_wduUYS"
      },
      "execution_count": 2,
      "outputs": []
    },
    {
      "cell_type": "markdown",
      "source": [
        "Array Section - Creating Arrays for adding data as part of the algorithms"
      ],
      "metadata": {
        "id": "9nppQUu_78yD"
      }
    },
    {
      "cell_type": "code",
      "execution_count": 28,
      "metadata": {
        "colab": {
          "base_uri": "https://localhost:8080/"
        },
        "id": "ou3joDyrqacW",
        "outputId": "670a1896-0d68-4a43-abb1-b4dd34a7337b"
      },
      "outputs": [
        {
          "output_type": "stream",
          "name": "stdout",
          "text": [
            "Total Days:['Monday', 'Tuesday', 'Wednesday', 'Thursday', 'Friday']\n",
            "Rooms:['P411', 'P412', 'P413', 'P414', 'P415', 'P416', 'P417', 'P418', 'P419', 'P420']\n",
            "Time Slot:['Morning', 'Afternoon']\n",
            "Bingo, Bango\n"
          ]
        }
      ],
      "source": [
        "import random\n",
        "\n",
        "#Created Arrays - Added data such as days and room numbers\n",
        "Week_Days = [\"Monday\", \"Tuesday\", \"Wednesday\", \"Thursday\", \"Friday\"]\n",
        "\n",
        "Time_Slots = ['Morning','Afternoon',]\n",
        "\n",
        "Room_Numbers = [\"P411\", \"P412\", \"P413\", \"P414\", \"P415\", \"P416\",\"P417\", \"P418\", \"P419\", \"P420\"]\n",
        "\n",
        "#Printing the arrays\n",
        "print ('Total Days:'+ str(Week_Days))\n",
        "\n",
        "print ('Rooms:' + str(Room_Numbers))\n",
        "\n",
        "print ('Time Slot:'+ str(Time_Slots))\n",
        "\n",
        "#Test for identifying value in an array\n",
        "for Test in Week_Days:\n",
        "  if Test == 'Friday':\n",
        "    print ('Bingo, Bango')"
      ]
    },
    {
      "cell_type": "markdown",
      "source": [
        "CSV Testing Zone - Reading table files and prints out the results in an array"
      ],
      "metadata": {
        "id": "YeBbMFAo8WOa"
      }
    },
    {
      "cell_type": "code",
      "source": [
        "student_table = pd.read_csv('/content/student_units.csv.csv')\n",
        "student_table.head()\n"
      ],
      "metadata": {
        "colab": {
          "base_uri": "https://localhost:8080/",
          "height": 206
        },
        "id": "HFmSkaP0Bcb0",
        "outputId": "b39ca24a-b61e-457a-8b2b-83f01736a17b"
      },
      "execution_count": 36,
      "outputs": [
        {
          "output_type": "execute_result",
          "data": {
            "text/plain": [
              "   ID Student Name Unitcode\n",
              "0   0     Student1   CIS311\n",
              "1   1     Student2   CIS312\n",
              "2   2     Student3   CIS322\n",
              "3   3     Student4   CIS323\n",
              "4   4     Student5   CIS315"
            ],
            "text/html": [
              "\n",
              "  <div id=\"df-920775af-823b-4a4f-9be1-35bd69183e6d\">\n",
              "    <div class=\"colab-df-container\">\n",
              "      <div>\n",
              "<style scoped>\n",
              "    .dataframe tbody tr th:only-of-type {\n",
              "        vertical-align: middle;\n",
              "    }\n",
              "\n",
              "    .dataframe tbody tr th {\n",
              "        vertical-align: top;\n",
              "    }\n",
              "\n",
              "    .dataframe thead th {\n",
              "        text-align: right;\n",
              "    }\n",
              "</style>\n",
              "<table border=\"1\" class=\"dataframe\">\n",
              "  <thead>\n",
              "    <tr style=\"text-align: right;\">\n",
              "      <th></th>\n",
              "      <th>ID</th>\n",
              "      <th>Student Name</th>\n",
              "      <th>Unitcode</th>\n",
              "    </tr>\n",
              "  </thead>\n",
              "  <tbody>\n",
              "    <tr>\n",
              "      <th>0</th>\n",
              "      <td>0</td>\n",
              "      <td>Student1</td>\n",
              "      <td>CIS311</td>\n",
              "    </tr>\n",
              "    <tr>\n",
              "      <th>1</th>\n",
              "      <td>1</td>\n",
              "      <td>Student2</td>\n",
              "      <td>CIS312</td>\n",
              "    </tr>\n",
              "    <tr>\n",
              "      <th>2</th>\n",
              "      <td>2</td>\n",
              "      <td>Student3</td>\n",
              "      <td>CIS322</td>\n",
              "    </tr>\n",
              "    <tr>\n",
              "      <th>3</th>\n",
              "      <td>3</td>\n",
              "      <td>Student4</td>\n",
              "      <td>CIS323</td>\n",
              "    </tr>\n",
              "    <tr>\n",
              "      <th>4</th>\n",
              "      <td>4</td>\n",
              "      <td>Student5</td>\n",
              "      <td>CIS315</td>\n",
              "    </tr>\n",
              "  </tbody>\n",
              "</table>\n",
              "</div>\n",
              "      <button class=\"colab-df-convert\" onclick=\"convertToInteractive('df-920775af-823b-4a4f-9be1-35bd69183e6d')\"\n",
              "              title=\"Convert this dataframe to an interactive table.\"\n",
              "              style=\"display:none;\">\n",
              "        \n",
              "  <svg xmlns=\"http://www.w3.org/2000/svg\" height=\"24px\"viewBox=\"0 0 24 24\"\n",
              "       width=\"24px\">\n",
              "    <path d=\"M0 0h24v24H0V0z\" fill=\"none\"/>\n",
              "    <path d=\"M18.56 5.44l.94 2.06.94-2.06 2.06-.94-2.06-.94-.94-2.06-.94 2.06-2.06.94zm-11 1L8.5 8.5l.94-2.06 2.06-.94-2.06-.94L8.5 2.5l-.94 2.06-2.06.94zm10 10l.94 2.06.94-2.06 2.06-.94-2.06-.94-.94-2.06-.94 2.06-2.06.94z\"/><path d=\"M17.41 7.96l-1.37-1.37c-.4-.4-.92-.59-1.43-.59-.52 0-1.04.2-1.43.59L10.3 9.45l-7.72 7.72c-.78.78-.78 2.05 0 2.83L4 21.41c.39.39.9.59 1.41.59.51 0 1.02-.2 1.41-.59l7.78-7.78 2.81-2.81c.8-.78.8-2.07 0-2.86zM5.41 20L4 18.59l7.72-7.72 1.47 1.35L5.41 20z\"/>\n",
              "  </svg>\n",
              "      </button>\n",
              "      \n",
              "  <style>\n",
              "    .colab-df-container {\n",
              "      display:flex;\n",
              "      flex-wrap:wrap;\n",
              "      gap: 12px;\n",
              "    }\n",
              "\n",
              "    .colab-df-convert {\n",
              "      background-color: #E8F0FE;\n",
              "      border: none;\n",
              "      border-radius: 50%;\n",
              "      cursor: pointer;\n",
              "      display: none;\n",
              "      fill: #1967D2;\n",
              "      height: 32px;\n",
              "      padding: 0 0 0 0;\n",
              "      width: 32px;\n",
              "    }\n",
              "\n",
              "    .colab-df-convert:hover {\n",
              "      background-color: #E2EBFA;\n",
              "      box-shadow: 0px 1px 2px rgba(60, 64, 67, 0.3), 0px 1px 3px 1px rgba(60, 64, 67, 0.15);\n",
              "      fill: #174EA6;\n",
              "    }\n",
              "\n",
              "    [theme=dark] .colab-df-convert {\n",
              "      background-color: #3B4455;\n",
              "      fill: #D2E3FC;\n",
              "    }\n",
              "\n",
              "    [theme=dark] .colab-df-convert:hover {\n",
              "      background-color: #434B5C;\n",
              "      box-shadow: 0px 1px 3px 1px rgba(0, 0, 0, 0.15);\n",
              "      filter: drop-shadow(0px 1px 2px rgba(0, 0, 0, 0.3));\n",
              "      fill: #FFFFFF;\n",
              "    }\n",
              "  </style>\n",
              "\n",
              "      <script>\n",
              "        const buttonEl =\n",
              "          document.querySelector('#df-920775af-823b-4a4f-9be1-35bd69183e6d button.colab-df-convert');\n",
              "        buttonEl.style.display =\n",
              "          google.colab.kernel.accessAllowed ? 'block' : 'none';\n",
              "\n",
              "        async function convertToInteractive(key) {\n",
              "          const element = document.querySelector('#df-920775af-823b-4a4f-9be1-35bd69183e6d');\n",
              "          const dataTable =\n",
              "            await google.colab.kernel.invokeFunction('convertToInteractive',\n",
              "                                                     [key], {});\n",
              "          if (!dataTable) return;\n",
              "\n",
              "          const docLinkHtml = 'Like what you see? Visit the ' +\n",
              "            '<a target=\"_blank\" href=https://colab.research.google.com/notebooks/data_table.ipynb>data table notebook</a>'\n",
              "            + ' to learn more about interactive tables.';\n",
              "          element.innerHTML = '';\n",
              "          dataTable['output_type'] = 'display_data';\n",
              "          await google.colab.output.renderOutput(dataTable, element);\n",
              "          const docLink = document.createElement('div');\n",
              "          docLink.innerHTML = docLinkHtml;\n",
              "          element.appendChild(docLink);\n",
              "        }\n",
              "      </script>\n",
              "    </div>\n",
              "  </div>\n",
              "  "
            ]
          },
          "metadata": {},
          "execution_count": 36
        }
      ]
    },
    {
      "cell_type": "code",
      "source": [
        "tutor_table = pd.read_csv('/content/tutor.csv.csv')\n",
        "tutor_table.head()"
      ],
      "metadata": {
        "colab": {
          "base_uri": "https://localhost:8080/",
          "height": 206
        },
        "id": "nM5DhXDKBZau",
        "outputId": "6fd755d3-2172-4dd3-d916-50ebd051692e"
      },
      "execution_count": 37,
      "outputs": [
        {
          "output_type": "execute_result",
          "data": {
            "text/plain": [
              "  Tutor_Name\n",
              "0     Tutor1\n",
              "1     Tutor2\n",
              "2     Tutor3\n",
              "3     Tutor4\n",
              "4     Tutor5"
            ],
            "text/html": [
              "\n",
              "  <div id=\"df-15baeda5-efaa-4034-a21e-077ecac7448c\">\n",
              "    <div class=\"colab-df-container\">\n",
              "      <div>\n",
              "<style scoped>\n",
              "    .dataframe tbody tr th:only-of-type {\n",
              "        vertical-align: middle;\n",
              "    }\n",
              "\n",
              "    .dataframe tbody tr th {\n",
              "        vertical-align: top;\n",
              "    }\n",
              "\n",
              "    .dataframe thead th {\n",
              "        text-align: right;\n",
              "    }\n",
              "</style>\n",
              "<table border=\"1\" class=\"dataframe\">\n",
              "  <thead>\n",
              "    <tr style=\"text-align: right;\">\n",
              "      <th></th>\n",
              "      <th>Tutor_Name</th>\n",
              "    </tr>\n",
              "  </thead>\n",
              "  <tbody>\n",
              "    <tr>\n",
              "      <th>0</th>\n",
              "      <td>Tutor1</td>\n",
              "    </tr>\n",
              "    <tr>\n",
              "      <th>1</th>\n",
              "      <td>Tutor2</td>\n",
              "    </tr>\n",
              "    <tr>\n",
              "      <th>2</th>\n",
              "      <td>Tutor3</td>\n",
              "    </tr>\n",
              "    <tr>\n",
              "      <th>3</th>\n",
              "      <td>Tutor4</td>\n",
              "    </tr>\n",
              "    <tr>\n",
              "      <th>4</th>\n",
              "      <td>Tutor5</td>\n",
              "    </tr>\n",
              "  </tbody>\n",
              "</table>\n",
              "</div>\n",
              "      <button class=\"colab-df-convert\" onclick=\"convertToInteractive('df-15baeda5-efaa-4034-a21e-077ecac7448c')\"\n",
              "              title=\"Convert this dataframe to an interactive table.\"\n",
              "              style=\"display:none;\">\n",
              "        \n",
              "  <svg xmlns=\"http://www.w3.org/2000/svg\" height=\"24px\"viewBox=\"0 0 24 24\"\n",
              "       width=\"24px\">\n",
              "    <path d=\"M0 0h24v24H0V0z\" fill=\"none\"/>\n",
              "    <path d=\"M18.56 5.44l.94 2.06.94-2.06 2.06-.94-2.06-.94-.94-2.06-.94 2.06-2.06.94zm-11 1L8.5 8.5l.94-2.06 2.06-.94-2.06-.94L8.5 2.5l-.94 2.06-2.06.94zm10 10l.94 2.06.94-2.06 2.06-.94-2.06-.94-.94-2.06-.94 2.06-2.06.94z\"/><path d=\"M17.41 7.96l-1.37-1.37c-.4-.4-.92-.59-1.43-.59-.52 0-1.04.2-1.43.59L10.3 9.45l-7.72 7.72c-.78.78-.78 2.05 0 2.83L4 21.41c.39.39.9.59 1.41.59.51 0 1.02-.2 1.41-.59l7.78-7.78 2.81-2.81c.8-.78.8-2.07 0-2.86zM5.41 20L4 18.59l7.72-7.72 1.47 1.35L5.41 20z\"/>\n",
              "  </svg>\n",
              "      </button>\n",
              "      \n",
              "  <style>\n",
              "    .colab-df-container {\n",
              "      display:flex;\n",
              "      flex-wrap:wrap;\n",
              "      gap: 12px;\n",
              "    }\n",
              "\n",
              "    .colab-df-convert {\n",
              "      background-color: #E8F0FE;\n",
              "      border: none;\n",
              "      border-radius: 50%;\n",
              "      cursor: pointer;\n",
              "      display: none;\n",
              "      fill: #1967D2;\n",
              "      height: 32px;\n",
              "      padding: 0 0 0 0;\n",
              "      width: 32px;\n",
              "    }\n",
              "\n",
              "    .colab-df-convert:hover {\n",
              "      background-color: #E2EBFA;\n",
              "      box-shadow: 0px 1px 2px rgba(60, 64, 67, 0.3), 0px 1px 3px 1px rgba(60, 64, 67, 0.15);\n",
              "      fill: #174EA6;\n",
              "    }\n",
              "\n",
              "    [theme=dark] .colab-df-convert {\n",
              "      background-color: #3B4455;\n",
              "      fill: #D2E3FC;\n",
              "    }\n",
              "\n",
              "    [theme=dark] .colab-df-convert:hover {\n",
              "      background-color: #434B5C;\n",
              "      box-shadow: 0px 1px 3px 1px rgba(0, 0, 0, 0.15);\n",
              "      filter: drop-shadow(0px 1px 2px rgba(0, 0, 0, 0.3));\n",
              "      fill: #FFFFFF;\n",
              "    }\n",
              "  </style>\n",
              "\n",
              "      <script>\n",
              "        const buttonEl =\n",
              "          document.querySelector('#df-15baeda5-efaa-4034-a21e-077ecac7448c button.colab-df-convert');\n",
              "        buttonEl.style.display =\n",
              "          google.colab.kernel.accessAllowed ? 'block' : 'none';\n",
              "\n",
              "        async function convertToInteractive(key) {\n",
              "          const element = document.querySelector('#df-15baeda5-efaa-4034-a21e-077ecac7448c');\n",
              "          const dataTable =\n",
              "            await google.colab.kernel.invokeFunction('convertToInteractive',\n",
              "                                                     [key], {});\n",
              "          if (!dataTable) return;\n",
              "\n",
              "          const docLinkHtml = 'Like what you see? Visit the ' +\n",
              "            '<a target=\"_blank\" href=https://colab.research.google.com/notebooks/data_table.ipynb>data table notebook</a>'\n",
              "            + ' to learn more about interactive tables.';\n",
              "          element.innerHTML = '';\n",
              "          dataTable['output_type'] = 'display_data';\n",
              "          await google.colab.output.renderOutput(dataTable, element);\n",
              "          const docLink = document.createElement('div');\n",
              "          docLink.innerHTML = docLinkHtml;\n",
              "          element.appendChild(docLink);\n",
              "        }\n",
              "      </script>\n",
              "    </div>\n",
              "  </div>\n",
              "  "
            ]
          },
          "metadata": {},
          "execution_count": 37
        }
      ]
    },
    {
      "cell_type": "code",
      "source": [
        "unit_table = pd.read_csv('/content/units.csv.csv')\n",
        "unit_table.head()     "
      ],
      "metadata": {
        "colab": {
          "base_uri": "https://localhost:8080/",
          "height": 206
        },
        "id": "4T4nHX9FBPd5",
        "outputId": "38da12f6-43ce-4457-8443-24bf65c50cc3"
      },
      "execution_count": 35,
      "outputs": [
        {
          "output_type": "execute_result",
          "data": {
            "text/plain": [
              "  Unitcode                           Name\n",
              "0   CIS311          Machine Intelligence \n",
              "1   CIS312        Electronics Engineering\n",
              "2   CIS313           Discrete Mathematics\n",
              "3   CIS314  Intro to Software Engineering\n",
              "4   CIS315             Programming Basics"
            ],
            "text/html": [
              "\n",
              "  <div id=\"df-9e1bea3f-8112-4c7e-894d-26ef8a04c1f4\">\n",
              "    <div class=\"colab-df-container\">\n",
              "      <div>\n",
              "<style scoped>\n",
              "    .dataframe tbody tr th:only-of-type {\n",
              "        vertical-align: middle;\n",
              "    }\n",
              "\n",
              "    .dataframe tbody tr th {\n",
              "        vertical-align: top;\n",
              "    }\n",
              "\n",
              "    .dataframe thead th {\n",
              "        text-align: right;\n",
              "    }\n",
              "</style>\n",
              "<table border=\"1\" class=\"dataframe\">\n",
              "  <thead>\n",
              "    <tr style=\"text-align: right;\">\n",
              "      <th></th>\n",
              "      <th>Unitcode</th>\n",
              "      <th>Name</th>\n",
              "    </tr>\n",
              "  </thead>\n",
              "  <tbody>\n",
              "    <tr>\n",
              "      <th>0</th>\n",
              "      <td>CIS311</td>\n",
              "      <td>Machine Intelligence</td>\n",
              "    </tr>\n",
              "    <tr>\n",
              "      <th>1</th>\n",
              "      <td>CIS312</td>\n",
              "      <td>Electronics Engineering</td>\n",
              "    </tr>\n",
              "    <tr>\n",
              "      <th>2</th>\n",
              "      <td>CIS313</td>\n",
              "      <td>Discrete Mathematics</td>\n",
              "    </tr>\n",
              "    <tr>\n",
              "      <th>3</th>\n",
              "      <td>CIS314</td>\n",
              "      <td>Intro to Software Engineering</td>\n",
              "    </tr>\n",
              "    <tr>\n",
              "      <th>4</th>\n",
              "      <td>CIS315</td>\n",
              "      <td>Programming Basics</td>\n",
              "    </tr>\n",
              "  </tbody>\n",
              "</table>\n",
              "</div>\n",
              "      <button class=\"colab-df-convert\" onclick=\"convertToInteractive('df-9e1bea3f-8112-4c7e-894d-26ef8a04c1f4')\"\n",
              "              title=\"Convert this dataframe to an interactive table.\"\n",
              "              style=\"display:none;\">\n",
              "        \n",
              "  <svg xmlns=\"http://www.w3.org/2000/svg\" height=\"24px\"viewBox=\"0 0 24 24\"\n",
              "       width=\"24px\">\n",
              "    <path d=\"M0 0h24v24H0V0z\" fill=\"none\"/>\n",
              "    <path d=\"M18.56 5.44l.94 2.06.94-2.06 2.06-.94-2.06-.94-.94-2.06-.94 2.06-2.06.94zm-11 1L8.5 8.5l.94-2.06 2.06-.94-2.06-.94L8.5 2.5l-.94 2.06-2.06.94zm10 10l.94 2.06.94-2.06 2.06-.94-2.06-.94-.94-2.06-.94 2.06-2.06.94z\"/><path d=\"M17.41 7.96l-1.37-1.37c-.4-.4-.92-.59-1.43-.59-.52 0-1.04.2-1.43.59L10.3 9.45l-7.72 7.72c-.78.78-.78 2.05 0 2.83L4 21.41c.39.39.9.59 1.41.59.51 0 1.02-.2 1.41-.59l7.78-7.78 2.81-2.81c.8-.78.8-2.07 0-2.86zM5.41 20L4 18.59l7.72-7.72 1.47 1.35L5.41 20z\"/>\n",
              "  </svg>\n",
              "      </button>\n",
              "      \n",
              "  <style>\n",
              "    .colab-df-container {\n",
              "      display:flex;\n",
              "      flex-wrap:wrap;\n",
              "      gap: 12px;\n",
              "    }\n",
              "\n",
              "    .colab-df-convert {\n",
              "      background-color: #E8F0FE;\n",
              "      border: none;\n",
              "      border-radius: 50%;\n",
              "      cursor: pointer;\n",
              "      display: none;\n",
              "      fill: #1967D2;\n",
              "      height: 32px;\n",
              "      padding: 0 0 0 0;\n",
              "      width: 32px;\n",
              "    }\n",
              "\n",
              "    .colab-df-convert:hover {\n",
              "      background-color: #E2EBFA;\n",
              "      box-shadow: 0px 1px 2px rgba(60, 64, 67, 0.3), 0px 1px 3px 1px rgba(60, 64, 67, 0.15);\n",
              "      fill: #174EA6;\n",
              "    }\n",
              "\n",
              "    [theme=dark] .colab-df-convert {\n",
              "      background-color: #3B4455;\n",
              "      fill: #D2E3FC;\n",
              "    }\n",
              "\n",
              "    [theme=dark] .colab-df-convert:hover {\n",
              "      background-color: #434B5C;\n",
              "      box-shadow: 0px 1px 3px 1px rgba(0, 0, 0, 0.15);\n",
              "      filter: drop-shadow(0px 1px 2px rgba(0, 0, 0, 0.3));\n",
              "      fill: #FFFFFF;\n",
              "    }\n",
              "  </style>\n",
              "\n",
              "      <script>\n",
              "        const buttonEl =\n",
              "          document.querySelector('#df-9e1bea3f-8112-4c7e-894d-26ef8a04c1f4 button.colab-df-convert');\n",
              "        buttonEl.style.display =\n",
              "          google.colab.kernel.accessAllowed ? 'block' : 'none';\n",
              "\n",
              "        async function convertToInteractive(key) {\n",
              "          const element = document.querySelector('#df-9e1bea3f-8112-4c7e-894d-26ef8a04c1f4');\n",
              "          const dataTable =\n",
              "            await google.colab.kernel.invokeFunction('convertToInteractive',\n",
              "                                                     [key], {});\n",
              "          if (!dataTable) return;\n",
              "\n",
              "          const docLinkHtml = 'Like what you see? Visit the ' +\n",
              "            '<a target=\"_blank\" href=https://colab.research.google.com/notebooks/data_table.ipynb>data table notebook</a>'\n",
              "            + ' to learn more about interactive tables.';\n",
              "          element.innerHTML = '';\n",
              "          dataTable['output_type'] = 'display_data';\n",
              "          await google.colab.output.renderOutput(dataTable, element);\n",
              "          const docLink = document.createElement('div');\n",
              "          docLink.innerHTML = docLinkHtml;\n",
              "          element.appendChild(docLink);\n",
              "        }\n",
              "      </script>\n",
              "    </div>\n",
              "  </div>\n",
              "  "
            ]
          },
          "metadata": {},
          "execution_count": 35
        }
      ]
    },
    {
      "cell_type": "code",
      "source": [
        "#Student Units Table \n",
        "with open('/content/student_units.csv.csv') as csv_table_file:\n",
        "  table_scan = csv.reader(csv_table_file)\n",
        "\n",
        "  student_table_array = list(csv_table_file)\n",
        "  print(student_table_array)\n",
        "\n",
        "#Tutor Table\n",
        "with open('/content/tutor.csv.csv') as csv_table_file:\n",
        "  table_scan = csv.reader(csv_table_file)\n",
        "\n",
        "  tutor_table_array = list(csv_table_file)\n",
        "  print(tutor_table_array)\n",
        "\n",
        "#Unit Table\n",
        "with open('/content/units.csv.csv') as csv_table_file:\n",
        "  table_scan = csv.reader(csv_table_file)\n",
        "\n",
        "  unit_table_array = list(csv_table_file)\n",
        "  print(unit_table_array)"
      ],
      "metadata": {
        "colab": {
          "base_uri": "https://localhost:8080/"
        },
        "id": "govlkqFF_-Lm",
        "outputId": "1d9eac88-56d4-428d-af86-83bdef6ad934"
      },
      "execution_count": 41,
      "outputs": [
        {
          "output_type": "stream",
          "name": "stdout",
          "text": [
            "['ID,Student Name,Unitcode\\n', '0,Student1,CIS311\\n', '1,Student2,CIS312\\n', '2,Student3,CIS322\\n', '3,Student4,CIS323\\n', '4,Student5,CIS315\\n', '5,Student6,CIS316\\n', '6,Student7,CIS327\\n', '7,Stduent8,CIS328\\n', '8,Student9,CIS329\\n', '9,Student10,CIS330\\n', '10,Student11,CIS318\\n', '11,Stduent12,CIS322\\n', '12,Student13,CIS333\\n', '13,Student14,CIS328\\n', '14,Student15,CIS313\\n', '15,Student16,CIS314\\n', '16,Student17,CIS326\\n', '17,Student18,CIS314\\n', '18,Student19,CIS331\\n', '19,Student 20,CIS332\\n', '20,Student21,CIS333\\n', '21,Student 22,CIS336\\n', '22,Student23,CIS334\\n', '23,Student24,CIS335\\n', '24,Student25,CIS336\\n', '25,Student26,CIS330\\n', '26,Student27,CIS320\\n', '27,Student28,CIS317\\n', '28,Student29,CIS313\\n', '29,Student30,CIS319\\n', '30,Student31,CIS331\\n']\n",
            "['Tutor_Name\\n', 'Tutor1\\n', 'Tutor2\\n', 'Tutor3\\n', 'Tutor4\\n', 'Tutor5\\n', 'Tutor6\\n', 'Tutor7\\n', 'Tutor8\\n', 'Tutor9\\n', 'Tutor10\\n', 'Tutor11\\n', 'Tutor12\\n', 'Tutor13\\n', 'Tutor14\\n', 'Tutor15\\n', 'Tutor16\\n', 'Tutor17\\n', 'Tutor18\\n', 'Tutor19\\n', 'Tutor20\\n', 'Tutor21\\n', 'Tutor22\\n', 'Tutor23\\n', 'Tutor24\\n', 'Tutor25\\n', 'Tutor26\\n', 'Tutor27\\n', 'Tutor28\\n', 'Tutor29\\n', 'Tutor30\\n']\n",
            "['Unitcode,Name\\n', 'CIS311,Machine Intelligence \\n', 'CIS312,Electronics Engineering\\n', 'CIS313,Discrete Mathematics\\n', 'CIS314,Intro to Software Engineering\\n', 'CIS315,Programming Basics\\n', 'CIS316,Database Systems\\n', 'CIS317,Operating Systems\\n', 'CIS318,Design & Analysis of Algorithms\\n', 'CIS319,Digital Forensics\\n', 'CIS320,Computer Networks\\n', 'CIS321,Software Engineering\\n', 'CIS322,Computer Organization and Assembly Language\\n', 'CIS323,Programming for AI\\n', 'CIS324,Big Data Analytics\\n', 'CIS325,Artificial Intelligence\\n', 'CIS326,Data Structures\\n', 'CIS327,Computer Organization & Assembly Language\\n', 'CIS328,Discrete Structures\\n', 'CIS329,Differential Equations\\n', 'CIS330,Cognitive Science\\n', 'CIS331,Marketing Management\\n', 'CIS332,Fundamentals of Management\\n', 'CIS333,Soft Computing Methods\\n', 'CIS334,Communication & Presentation Skills\\n', 'CIS335,Object Oriented Modelling\\n', 'CIS336,Probability and Statistics\\n']\n"
          ]
        }
      ]
    },
    {
      "cell_type": "code",
      "source": [
        "#Testing random generation and adding them to an array\n",
        "#random selected units from the array\n",
        "random_Day = random.choice(Week_Days)\n",
        "random_Time_Slot = random.choice(Time_Slots)\n",
        "random_Room = random.choice(Room_Numbers)\n",
        "\n",
        "#random selected units from the csv files\n",
        "random_student = random.choice(student_table_array)\n",
        "random_tutor = random.choice(tutor_table_array)\n",
        "random_unit = random.choice(unit_table_array)\n",
        "\n",
        "random_array = [random_Day, random_Time_Slot, random_Room]\n",
        "random_csv_array = [random_student, random_tutor, random_unit]\n",
        "random_csv_array_units = [random_Day, random_Time_Slot, random_Room, random_student, random_tutor, random_unit]\n",
        "\n",
        "print ('Random Array Results:')\n",
        "print ('Random Units from Arrays -' + str(random_array))\n",
        "print ('')\n",
        "print ('Random Units from csv files -' + str(random_csv_array))\n",
        "print ('')\n",
        "print ('Random Units from Arrays & csv files -' + str(random_csv_array_units))"
      ],
      "metadata": {
        "colab": {
          "base_uri": "https://localhost:8080/"
        },
        "id": "swT_dLoJw1ao",
        "outputId": "8c4c5400-ae74-47de-92f4-b75c869aa0b2"
      },
      "execution_count": 59,
      "outputs": [
        {
          "output_type": "stream",
          "name": "stdout",
          "text": [
            "Random Array Results:\n",
            "Random Units from Arrays -['Tuesday', 'Afternoon', 'P420']\n",
            "\n",
            "Random Units from csv files -['17,Student18,CIS314\\n', 'Tutor21\\n', 'CIS334,Communication & Presentation Skills\\n']\n",
            "\n",
            "Random Units from Arrays & csv files -['Tuesday', 'Afternoon', 'P420', '17,Student18,CIS314\\n', 'Tutor21\\n', 'CIS334,Communication & Presentation Skills\\n']\n"
          ]
        }
      ]
    },
    {
      "cell_type": "markdown",
      "source": [
        "Class Section - Deinfing the classes that are gonna be used in the algorithm  "
      ],
      "metadata": {
        "id": "TX5CjORm7LCe"
      }
    },
    {
      "cell_type": "code",
      "source": [
        "#Class Student \n",
        "#class Student_Info:\n"
      ],
      "metadata": {
        "id": "85V8p9hutWi_"
      },
      "execution_count": 5,
      "outputs": []
    },
    {
      "cell_type": "code",
      "source": [
        "#Class Schdule\n",
        "class Schedule:\n",
        "    def __init__(self, days=dict(), fitness=0):\n",
        "        self.days = days\n",
        "        self.fitness = fitness\n",
        "        for day in Week_Days:\n",
        "            self.days[day] = []"
      ],
      "metadata": {
        "id": "8cKLA3xprurS"
      },
      "execution_count": 6,
      "outputs": []
    },
    {
      "cell_type": "markdown",
      "source": [
        "Function Section - Deinfing the functions that are gonna be used in the algorithm "
      ],
      "metadata": {
        "id": "QiI3fgro7pyb"
      }
    },
    {
      "cell_type": "code",
      "source": [
        "#Verifying the units\n",
        "def Verify_Unit(units, code):\n",
        "    for unit in units:\n",
        "        if code == unit[0]:\n",
        "            return True\n",
        "\n",
        "    return False"
      ],
      "metadata": {
        "id": "NmEln7Hq8VxD"
      },
      "execution_count": 7,
      "outputs": []
    },
    {
      "cell_type": "markdown",
      "source": [
        "Main Function - Where the program will first run the algorithm"
      ],
      "metadata": {
        "id": "gu3Q93OU8NHR"
      }
    },
    {
      "cell_type": "code",
      "source": [
        "def main():\n",
        "  #Constraints for the algorithm \n",
        "  Population_Total = random.randint(50, 250)                    \n",
        "  Max_Generation = random.randint(50, 500)                  \n",
        "  Probability_Crossover = 0.9                                    \n",
        "  Probability_Mutation = 0.5  \n",
        "  \n",
        "  #Print Values as Test\n",
        "  print ('Selected Constraints:')\n",
        "  print ('Population Size:' + str(Population_Total))\n",
        "  print ('Max Generation:' + str(Max_Generation))\n",
        "  print ('Crossover Probability:' + str(Probability_Crossover))\n",
        "  print ('Mutation Probability:' + str(Probability_Mutation))\n",
        "\n",
        "if __name__ == \"__main__\":\n",
        "    main()"
      ],
      "metadata": {
        "id": "jlzEfINDxXrD",
        "outputId": "8ae103dc-1903-4a40-a5d4-c6c0c5e9c80a",
        "colab": {
          "base_uri": "https://localhost:8080/"
        }
      },
      "execution_count": 30,
      "outputs": [
        {
          "output_type": "stream",
          "name": "stdout",
          "text": [
            "Selected Constraints:\n",
            "Population Size:112\n",
            "Max Generation:391\n",
            "Crossover Probability:0.9\n",
            "Mutation Probability:0.5\n"
          ]
        }
      ]
    }
  ]
}